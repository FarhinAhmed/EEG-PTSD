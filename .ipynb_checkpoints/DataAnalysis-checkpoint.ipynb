{
 "cells": [
  {
   "cell_type": "code",
   "execution_count": null,
   "metadata": {
    "collapsed": true
   },
   "outputs": [],
   "source": []
  },
  {
   "cell_type": "code",
   "execution_count": 1,
   "metadata": {
    "collapsed": true
   },
   "outputs": [],
   "source": [
    "%matplotlib inline\n",
    "import pandas as pd\n",
    "\n",
    "import numpy as np\n",
    "import matplotlib.pyplot as plt\n",
    "\n",
    "pd.set_option(\"display.max_rows\", 16)\n",
    "\n",
    "LARGE_FIGSIZE = (12, 8)"
   ]
  },
  {
   "cell_type": "code",
   "execution_count": 3,
   "metadata": {
    "collapsed": false
   },
   "outputs": [
    {
     "data": {
      "text/plain": [
       "Index(['attention', 'delta', 'highAlpha', 'highBeta', 'lowAlpha', 'lowBeta',\n",
       "       'lowGamma', 'meditation', 'midGamma', 'recording_time', 'session_id',\n",
       "       'theta', 'user_activity_id', 'user_id', 'user_mental_state_id'],\n",
       "      dtype='object')"
      ]
     },
     "execution_count": 3,
     "metadata": {},
     "output_type": "execute_result"
    }
   ],
   "source": [
    "#first, read the csv file as a df\n",
    "eeg_df = pd.read_csv(\"eeg_dataset\",parse_dates = True)\n",
    "eeg_df['recording_time'] = eeg_df['recording_time'].astype(\"datetime64[ms]\")\n",
    "eeg_df.columns"
   ]
  },
  {
   "cell_type": "code",
   "execution_count": 51,
   "metadata": {
    "collapsed": false
   },
   "outputs": [],
   "source": [
    "#We will produce grpahs for each user:\n",
    "#A graph will be produced for a single user for a single attribute and a constant mental state showing that particular attribute for\n",
    "#the different physical states\n",
    "def graph_given_users_on_the_mentioned_attributes_user_activities_mental_states(user_ids,excluded_attributes,included_user_activities,included_mental_states):\n",
    "    #first, keep the attributes we are interested in\n",
    "    columns = eeg_df.columns\n",
    "    columns = [col for col in columns if col not in excluded_attributes]\n",
    "    #print(columns)\n",
    "    temp_df = eeg_df[columns]\n",
    "    #Then filter out the excess user activity attributes\n",
    "    temp_df = temp_df[temp_df['user_activity_id'].isin(included_user_activities)]\n",
    "    #print(temp_df.head())\n",
    "    #print(temp_df['user_activity_id'].unique())\n",
    "    #Now keep onlythe given mental state ids\n",
    "    temp_df = temp_df[temp_df['user_mental_state_id'].isin(included_mental_states)]\n",
    "    \n",
    "    #And of course, filter the users\n",
    "    temp_df = temp_df[temp_df['user_id'].isin(user_ids)]\n",
    "    #We will expand this method a lot in the future iA\n",
    "    \n",
    "    \n",
    "    #print(temp_df['user_activity_id'].unique())\n",
    "    #print(temp_df['user_mental_state_id'].unique())\n",
    "    #print(temp_df['user_id'].unique())\n",
    "    #print(temp_df['user_activity_id'].unique())\n",
    "    #print(temp_df.columns)\n",
    "    #draw_graph(0,5,['attention', 'meditation','delta', 'highAlpha', 'highBeta'],5,temp_df)\n",
    "    drawValForEachAttrForAllActivities(0,5,['attention', 'meditation','delta', 'highAlpha', 'highBeta'],[5,7,8],temp_df)\n",
    "    return temp_df\n",
    "    \n",
    "    \n",
    "    \n",
    "    "
   ]
  },
  {
   "cell_type": "code",
   "execution_count": 86,
   "metadata": {
    "collapsed": true
   },
   "outputs": [
    {
     "name": "stdout",
     "output_type": "stream",
     "text": [
      "attention         attention5   attention7   attention8\n",
      "count  1001.000000  1001.000000  1001.000000\n",
      "mean     48.154845    47.027972    38.420579\n",
      "std      17.363957    13.070395    11.587232\n",
      "min       0.000000     0.000000     0.000000\n",
      "25%      38.000000    47.000000    38.000000\n",
      "50%      47.000000    47.000000    38.000000\n",
      "75%      57.000000    50.000000    40.000000\n",
      "max     100.000000   100.000000    97.000000\n",
      "meditation        meditation5  meditation7  meditation8\n",
      "count  1001.000000  1001.000000  1001.000000\n",
      "mean     51.323676    46.562438    55.234765\n",
      "std      16.906778    12.174496    13.160693\n",
      "min       0.000000     0.000000     0.000000\n",
      "25%      41.000000    44.000000    50.000000\n",
      "50%      51.000000    44.000000    50.000000\n",
      "75%      63.000000    50.000000    60.000000\n",
      "max     100.000000   100.000000   100.000000\n",
      "delta              delta5        delta7        delta8\n",
      "count  1.001000e+03  1.001000e+03  1.001000e+03\n",
      "mean   6.533085e+05  1.072579e+06  6.160858e+05\n",
      "std    6.329327e+05  5.225333e+05  5.310021e+05\n",
      "min    5.800000e+01  4.600000e+01  1.300000e+01\n",
      "25%    1.758790e+05  7.327870e+05  3.718670e+05\n",
      "50%    4.413020e+05  1.274906e+06  3.718670e+05\n",
      "75%    9.384460e+05  1.274906e+06  7.009860e+05\n",
      "max    3.518613e+06  3.563692e+06  3.202694e+06\n",
      "highAlpha          highAlpha5     highAlpha7     highAlpha8\n",
      "count  1.001000e+03    1001.000000    1001.000000\n",
      "mean   2.503917e+04   35112.663337   25985.597403\n",
      "std    5.304913e+04   32593.572878   38263.514437\n",
      "min    0.000000e+00       0.000000       1.000000\n",
      "25%    5.075000e+03   17380.000000   16364.000000\n",
      "50%    1.182600e+04   37394.000000   19709.000000\n",
      "75%    2.862300e+04   37394.000000   19709.000000\n",
      "max    1.284724e+06  356880.000000  610136.000000\n",
      "highBeta            highBeta5      highBeta7      highBeta8\n",
      "count    1001.000000    1001.000000    1001.000000\n",
      "mean     9634.090909   15332.416583   10878.543457\n",
      "std     21188.697226   14992.293112   15689.581662\n",
      "min         1.000000       0.000000       0.000000\n",
      "25%      2183.000000    8450.000000    6039.000000\n",
      "50%      5120.000000   15380.000000   10445.000000\n",
      "75%     10222.000000   15380.000000   10445.000000\n",
      "max    481160.000000  158909.000000  325647.000000\n"
     ]
    }
   ],
   "source": [
    "#included_attributes = [ 'attention', 'delta', 'highAlpha', 'highBeta', 'lowAlpha', 'lowBeta',\n",
    "       #'lowGamma', 'meditation', 'midGamma','theta']\n",
    "excluded_attributes = [ 'lowAlpha', 'lowBeta','lowGamma','midGamma']\n",
    "included_user_activities = [5,7,8]\n",
    "included_mental_states = [5]\n",
    "user_ids = [0]\n",
    "temp_df = graph_given_users_on_the_mentioned_attributes_user_activities_mental_states(user_ids,excluded_attributes,included_user_activities,included_mental_states)"
   ]
  },
  {
   "cell_type": "code",
   "execution_count": 47,
   "metadata": {
    "collapsed": false
   },
   "outputs": [],
   "source": [
    "#Now we need to graph. \n",
    "def draw_graph(user_id,mental_state,all_attributes,all_activities,cur_df):\n",
    "    cur_df = cur_df[all_attributes]\n",
    "    plt.figure(); cur_df.plot();\n",
    "    \n",
    "        \n",
    "    "
   ]
  },
  {
   "cell_type": "code",
   "execution_count": 85,
   "metadata": {
    "collapsed": true
   },
   "outputs": [],
   "source": [
    "def drawValForEachAttrForAllActivities(user_id,mental_state,attributes_to_draw,all_activities,cur_df):\n",
    "    df_map = {}\n",
    "    for att in attributes_to_draw:\n",
    "        df_map[att] = pd.DataFrame()\n",
    "    #print(df_map)\n",
    "    \n",
    "    grouped_by_activity = cur_df.groupby(\"user_activity_id\")\n",
    "    \n",
    "    for group_name,sub_df in grouped_by_activity:\n",
    "        #print(sub_df)\n",
    "        #print(group_name)\n",
    "        for att in attributes_to_draw:\n",
    "            col_name = att + str(group_name)\n",
    "            #print(col_name)\n",
    "            #print(sub_df[att])\n",
    "            df_map[att][col_name] = sub_df[att].reset_index(drop=True)\n",
    "    #Now replace all NAN with interpolation\n",
    "    for att in attributes_to_draw:\n",
    "        df_map[att] = df_map[att].interpolate()\n",
    "        #plt.figure(); df_map[att].plot(logy = True);\n",
    "        #break\n",
    "        print(att,df_map[att].describe())\n",
    "    \n",
    "        \n",
    "    #print(df_map)"
   ]
  },
  {
   "cell_type": "code",
   "execution_count": null,
   "metadata": {
    "collapsed": true
   },
   "outputs": [],
   "source": [
    "def prepare_dataset():\n",
    "    "
   ]
  }
 ],
 "metadata": {
  "anaconda-cloud": {},
  "kernelspec": {
   "display_name": "Python [conda root]",
   "language": "python",
   "name": "conda-root-py"
  },
  "language_info": {
   "codemirror_mode": {
    "name": "ipython",
    "version": 3
   },
   "file_extension": ".py",
   "mimetype": "text/x-python",
   "name": "python",
   "nbconvert_exporter": "python",
   "pygments_lexer": "ipython3",
   "version": "3.5.2"
  }
 },
 "nbformat": 4,
 "nbformat_minor": 1
}
